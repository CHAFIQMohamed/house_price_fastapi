{
 "cells": [
  {
   "cell_type": "markdown",
   "id": "b5a18375",
   "metadata": {
    "papermill": {
     "duration": 0.00741,
     "end_time": "2023-09-16T16:27:00.448080",
     "exception": false,
     "start_time": "2023-09-16T16:27:00.440670",
     "status": "completed"
    },
    "tags": []
   },
   "source": [
    "## IMPORTS"
   ]
  },
  {
   "cell_type": "code",
   "execution_count": 5,
   "id": "e46def9a",
   "metadata": {
    "execution": {
     "iopub.execute_input": "2023-09-16T16:27:00.464379Z",
     "iopub.status.busy": "2023-09-16T16:27:00.463394Z",
     "iopub.status.idle": "2023-09-16T16:27:02.215555Z",
     "shell.execute_reply": "2023-09-16T16:27:02.214462Z"
    },
    "papermill": {
     "duration": 1.762721,
     "end_time": "2023-09-16T16:27:02.218045",
     "exception": false,
     "start_time": "2023-09-16T16:27:00.455324",
     "status": "completed"
    },
    "tags": []
   },
   "outputs": [],
   "source": [
    "import pandas as pd \n",
    "import numpy as np\n",
    "import matplotlib.pyplot as plt\n",
    "import seaborn as sns\n",
    "\n",
    "import pickle\n",
    "%matplotlib inline"
   ]
  },
  {
   "cell_type": "code",
   "execution_count": 6,
   "id": "0c0620a3",
   "metadata": {
    "execution": {
     "iopub.execute_input": "2023-09-16T16:27:02.233426Z",
     "iopub.status.busy": "2023-09-16T16:27:02.232908Z",
     "iopub.status.idle": "2023-09-16T16:27:02.262795Z",
     "shell.execute_reply": "2023-09-16T16:27:02.261345Z"
    },
    "papermill": {
     "duration": 0.041918,
     "end_time": "2023-09-16T16:27:02.266796",
     "exception": false,
     "start_time": "2023-09-16T16:27:02.224878",
     "status": "completed"
    },
    "tags": []
   },
   "outputs": [],
   "source": [
    "train=pd.read_csv(\"../data/Housing.csv\")"
   ]
  },
  {
   "cell_type": "markdown",
   "id": "92fb5baa",
   "metadata": {
    "papermill": {
     "duration": 0.00656,
     "end_time": "2023-09-16T16:27:02.280266",
     "exception": false,
     "start_time": "2023-09-16T16:27:02.273706",
     "status": "completed"
    },
    "tags": []
   },
   "source": [
    "## EDA"
   ]
  },
  {
   "cell_type": "code",
   "execution_count": 7,
   "id": "6d2daf01",
   "metadata": {
    "execution": {
     "iopub.execute_input": "2023-09-16T16:27:02.295764Z",
     "iopub.status.busy": "2023-09-16T16:27:02.294827Z",
     "iopub.status.idle": "2023-09-16T16:27:02.317873Z",
     "shell.execute_reply": "2023-09-16T16:27:02.316825Z"
    },
    "papermill": {
     "duration": 0.033048,
     "end_time": "2023-09-16T16:27:02.320013",
     "exception": false,
     "start_time": "2023-09-16T16:27:02.286965",
     "status": "completed"
    },
    "tags": []
   },
   "outputs": [
    {
     "data": {
      "text/html": [
       "<div>\n",
       "<style scoped>\n",
       "    .dataframe tbody tr th:only-of-type {\n",
       "        vertical-align: middle;\n",
       "    }\n",
       "\n",
       "    .dataframe tbody tr th {\n",
       "        vertical-align: top;\n",
       "    }\n",
       "\n",
       "    .dataframe thead th {\n",
       "        text-align: right;\n",
       "    }\n",
       "</style>\n",
       "<table border=\"1\" class=\"dataframe\">\n",
       "  <thead>\n",
       "    <tr style=\"text-align: right;\">\n",
       "      <th></th>\n",
       "      <th>price</th>\n",
       "      <th>area</th>\n",
       "      <th>bedrooms</th>\n",
       "      <th>bathrooms</th>\n",
       "      <th>stories</th>\n",
       "      <th>mainroad</th>\n",
       "      <th>guestroom</th>\n",
       "      <th>basement</th>\n",
       "      <th>hotwaterheating</th>\n",
       "      <th>airconditioning</th>\n",
       "      <th>parking</th>\n",
       "      <th>prefarea</th>\n",
       "      <th>furnishingstatus</th>\n",
       "    </tr>\n",
       "  </thead>\n",
       "  <tbody>\n",
       "    <tr>\n",
       "      <th>0</th>\n",
       "      <td>13300000</td>\n",
       "      <td>7420</td>\n",
       "      <td>4</td>\n",
       "      <td>2</td>\n",
       "      <td>3</td>\n",
       "      <td>yes</td>\n",
       "      <td>no</td>\n",
       "      <td>no</td>\n",
       "      <td>no</td>\n",
       "      <td>yes</td>\n",
       "      <td>2</td>\n",
       "      <td>yes</td>\n",
       "      <td>furnished</td>\n",
       "    </tr>\n",
       "    <tr>\n",
       "      <th>1</th>\n",
       "      <td>12250000</td>\n",
       "      <td>8960</td>\n",
       "      <td>4</td>\n",
       "      <td>4</td>\n",
       "      <td>4</td>\n",
       "      <td>yes</td>\n",
       "      <td>no</td>\n",
       "      <td>no</td>\n",
       "      <td>no</td>\n",
       "      <td>yes</td>\n",
       "      <td>3</td>\n",
       "      <td>no</td>\n",
       "      <td>furnished</td>\n",
       "    </tr>\n",
       "    <tr>\n",
       "      <th>2</th>\n",
       "      <td>12250000</td>\n",
       "      <td>9960</td>\n",
       "      <td>3</td>\n",
       "      <td>2</td>\n",
       "      <td>2</td>\n",
       "      <td>yes</td>\n",
       "      <td>no</td>\n",
       "      <td>yes</td>\n",
       "      <td>no</td>\n",
       "      <td>no</td>\n",
       "      <td>2</td>\n",
       "      <td>yes</td>\n",
       "      <td>semi-furnished</td>\n",
       "    </tr>\n",
       "    <tr>\n",
       "      <th>3</th>\n",
       "      <td>12215000</td>\n",
       "      <td>7500</td>\n",
       "      <td>4</td>\n",
       "      <td>2</td>\n",
       "      <td>2</td>\n",
       "      <td>yes</td>\n",
       "      <td>no</td>\n",
       "      <td>yes</td>\n",
       "      <td>no</td>\n",
       "      <td>yes</td>\n",
       "      <td>3</td>\n",
       "      <td>yes</td>\n",
       "      <td>furnished</td>\n",
       "    </tr>\n",
       "    <tr>\n",
       "      <th>4</th>\n",
       "      <td>11410000</td>\n",
       "      <td>7420</td>\n",
       "      <td>4</td>\n",
       "      <td>1</td>\n",
       "      <td>2</td>\n",
       "      <td>yes</td>\n",
       "      <td>yes</td>\n",
       "      <td>yes</td>\n",
       "      <td>no</td>\n",
       "      <td>yes</td>\n",
       "      <td>2</td>\n",
       "      <td>no</td>\n",
       "      <td>furnished</td>\n",
       "    </tr>\n",
       "  </tbody>\n",
       "</table>\n",
       "</div>"
      ],
      "text/plain": [
       "      price  area  bedrooms  bathrooms  stories mainroad guestroom basement  \\\n",
       "0  13300000  7420         4          2        3      yes        no       no   \n",
       "1  12250000  8960         4          4        4      yes        no       no   \n",
       "2  12250000  9960         3          2        2      yes        no      yes   \n",
       "3  12215000  7500         4          2        2      yes        no      yes   \n",
       "4  11410000  7420         4          1        2      yes       yes      yes   \n",
       "\n",
       "  hotwaterheating airconditioning  parking prefarea furnishingstatus  \n",
       "0              no             yes        2      yes        furnished  \n",
       "1              no             yes        3       no        furnished  \n",
       "2              no              no        2      yes   semi-furnished  \n",
       "3              no             yes        3      yes        furnished  \n",
       "4              no             yes        2       no        furnished  "
      ]
     },
     "execution_count": 7,
     "metadata": {},
     "output_type": "execute_result"
    }
   ],
   "source": [
    "train.head()"
   ]
  },
  {
   "cell_type": "code",
   "execution_count": 8,
   "id": "7445e66b",
   "metadata": {
    "execution": {
     "iopub.execute_input": "2023-09-16T16:27:02.335888Z",
     "iopub.status.busy": "2023-09-16T16:27:02.334951Z",
     "iopub.status.idle": "2023-09-16T16:27:02.362981Z",
     "shell.execute_reply": "2023-09-16T16:27:02.361970Z"
    },
    "papermill": {
     "duration": 0.038718,
     "end_time": "2023-09-16T16:27:02.365540",
     "exception": false,
     "start_time": "2023-09-16T16:27:02.326822",
     "status": "completed"
    },
    "tags": []
   },
   "outputs": [
    {
     "name": "stdout",
     "output_type": "stream",
     "text": [
      "<class 'pandas.core.frame.DataFrame'>\n",
      "RangeIndex: 545 entries, 0 to 544\n",
      "Data columns (total 13 columns):\n",
      " #   Column            Non-Null Count  Dtype \n",
      "---  ------            --------------  ----- \n",
      " 0   price             545 non-null    int64 \n",
      " 1   area              545 non-null    int64 \n",
      " 2   bedrooms          545 non-null    int64 \n",
      " 3   bathrooms         545 non-null    int64 \n",
      " 4   stories           545 non-null    int64 \n",
      " 5   mainroad          545 non-null    object\n",
      " 6   guestroom         545 non-null    object\n",
      " 7   basement          545 non-null    object\n",
      " 8   hotwaterheating   545 non-null    object\n",
      " 9   airconditioning   545 non-null    object\n",
      " 10  parking           545 non-null    int64 \n",
      " 11  prefarea          545 non-null    object\n",
      " 12  furnishingstatus  545 non-null    object\n",
      "dtypes: int64(6), object(7)\n",
      "memory usage: 55.5+ KB\n"
     ]
    }
   ],
   "source": [
    "train.info()"
   ]
  },
  {
   "cell_type": "code",
   "execution_count": 9,
   "id": "f6e16d15",
   "metadata": {
    "execution": {
     "iopub.execute_input": "2023-09-16T16:27:02.381182Z",
     "iopub.status.busy": "2023-09-16T16:27:02.380594Z",
     "iopub.status.idle": "2023-09-16T16:27:02.388307Z",
     "shell.execute_reply": "2023-09-16T16:27:02.387434Z"
    },
    "papermill": {
     "duration": 0.017528,
     "end_time": "2023-09-16T16:27:02.390098",
     "exception": false,
     "start_time": "2023-09-16T16:27:02.372570",
     "status": "completed"
    },
    "tags": []
   },
   "outputs": [
    {
     "data": {
      "text/plain": [
       "price               0\n",
       "area                0\n",
       "bedrooms            0\n",
       "bathrooms           0\n",
       "stories             0\n",
       "mainroad            0\n",
       "guestroom           0\n",
       "basement            0\n",
       "hotwaterheating     0\n",
       "airconditioning     0\n",
       "parking             0\n",
       "prefarea            0\n",
       "furnishingstatus    0\n",
       "dtype: int64"
      ]
     },
     "execution_count": 9,
     "metadata": {},
     "output_type": "execute_result"
    }
   ],
   "source": [
    "train.isnull().sum()"
   ]
  },
  {
   "cell_type": "code",
   "execution_count": 10,
   "id": "db9d0058",
   "metadata": {
    "execution": {
     "iopub.execute_input": "2023-09-16T16:27:02.406754Z",
     "iopub.status.busy": "2023-09-16T16:27:02.405613Z",
     "iopub.status.idle": "2023-09-16T16:27:02.438863Z",
     "shell.execute_reply": "2023-09-16T16:27:02.438126Z"
    },
    "papermill": {
     "duration": 0.04381,
     "end_time": "2023-09-16T16:27:02.440907",
     "exception": false,
     "start_time": "2023-09-16T16:27:02.397097",
     "status": "completed"
    },
    "tags": []
   },
   "outputs": [
    {
     "data": {
      "text/html": [
       "<div>\n",
       "<style scoped>\n",
       "    .dataframe tbody tr th:only-of-type {\n",
       "        vertical-align: middle;\n",
       "    }\n",
       "\n",
       "    .dataframe tbody tr th {\n",
       "        vertical-align: top;\n",
       "    }\n",
       "\n",
       "    .dataframe thead th {\n",
       "        text-align: right;\n",
       "    }\n",
       "</style>\n",
       "<table border=\"1\" class=\"dataframe\">\n",
       "  <thead>\n",
       "    <tr style=\"text-align: right;\">\n",
       "      <th></th>\n",
       "      <th>count</th>\n",
       "      <th>mean</th>\n",
       "      <th>std</th>\n",
       "      <th>min</th>\n",
       "      <th>25%</th>\n",
       "      <th>50%</th>\n",
       "      <th>75%</th>\n",
       "      <th>max</th>\n",
       "    </tr>\n",
       "  </thead>\n",
       "  <tbody>\n",
       "    <tr>\n",
       "      <th>price</th>\n",
       "      <td>545.0</td>\n",
       "      <td>4.766729e+06</td>\n",
       "      <td>1.870440e+06</td>\n",
       "      <td>1750000.0</td>\n",
       "      <td>3430000.0</td>\n",
       "      <td>4340000.0</td>\n",
       "      <td>5740000.0</td>\n",
       "      <td>13300000.0</td>\n",
       "    </tr>\n",
       "    <tr>\n",
       "      <th>area</th>\n",
       "      <td>545.0</td>\n",
       "      <td>5.150541e+03</td>\n",
       "      <td>2.170141e+03</td>\n",
       "      <td>1650.0</td>\n",
       "      <td>3600.0</td>\n",
       "      <td>4600.0</td>\n",
       "      <td>6360.0</td>\n",
       "      <td>16200.0</td>\n",
       "    </tr>\n",
       "    <tr>\n",
       "      <th>bedrooms</th>\n",
       "      <td>545.0</td>\n",
       "      <td>2.965138e+00</td>\n",
       "      <td>7.380639e-01</td>\n",
       "      <td>1.0</td>\n",
       "      <td>2.0</td>\n",
       "      <td>3.0</td>\n",
       "      <td>3.0</td>\n",
       "      <td>6.0</td>\n",
       "    </tr>\n",
       "    <tr>\n",
       "      <th>bathrooms</th>\n",
       "      <td>545.0</td>\n",
       "      <td>1.286239e+00</td>\n",
       "      <td>5.024696e-01</td>\n",
       "      <td>1.0</td>\n",
       "      <td>1.0</td>\n",
       "      <td>1.0</td>\n",
       "      <td>2.0</td>\n",
       "      <td>4.0</td>\n",
       "    </tr>\n",
       "    <tr>\n",
       "      <th>stories</th>\n",
       "      <td>545.0</td>\n",
       "      <td>1.805505e+00</td>\n",
       "      <td>8.674925e-01</td>\n",
       "      <td>1.0</td>\n",
       "      <td>1.0</td>\n",
       "      <td>2.0</td>\n",
       "      <td>2.0</td>\n",
       "      <td>4.0</td>\n",
       "    </tr>\n",
       "    <tr>\n",
       "      <th>parking</th>\n",
       "      <td>545.0</td>\n",
       "      <td>6.935780e-01</td>\n",
       "      <td>8.615858e-01</td>\n",
       "      <td>0.0</td>\n",
       "      <td>0.0</td>\n",
       "      <td>0.0</td>\n",
       "      <td>1.0</td>\n",
       "      <td>3.0</td>\n",
       "    </tr>\n",
       "  </tbody>\n",
       "</table>\n",
       "</div>"
      ],
      "text/plain": [
       "           count          mean           std        min        25%        50%  \\\n",
       "price      545.0  4.766729e+06  1.870440e+06  1750000.0  3430000.0  4340000.0   \n",
       "area       545.0  5.150541e+03  2.170141e+03     1650.0     3600.0     4600.0   \n",
       "bedrooms   545.0  2.965138e+00  7.380639e-01        1.0        2.0        3.0   \n",
       "bathrooms  545.0  1.286239e+00  5.024696e-01        1.0        1.0        1.0   \n",
       "stories    545.0  1.805505e+00  8.674925e-01        1.0        1.0        2.0   \n",
       "parking    545.0  6.935780e-01  8.615858e-01        0.0        0.0        0.0   \n",
       "\n",
       "                 75%         max  \n",
       "price      5740000.0  13300000.0  \n",
       "area          6360.0     16200.0  \n",
       "bedrooms         3.0         6.0  \n",
       "bathrooms        2.0         4.0  \n",
       "stories          2.0         4.0  \n",
       "parking          1.0         3.0  "
      ]
     },
     "execution_count": 10,
     "metadata": {},
     "output_type": "execute_result"
    }
   ],
   "source": [
    "train.describe().transpose()"
   ]
  },
  {
   "cell_type": "code",
   "execution_count": 11,
   "id": "5abb8f16",
   "metadata": {
    "execution": {
     "iopub.execute_input": "2023-09-16T16:27:02.457573Z",
     "iopub.status.busy": "2023-09-16T16:27:02.456947Z",
     "iopub.status.idle": "2023-09-16T16:27:02.811930Z",
     "shell.execute_reply": "2023-09-16T16:27:02.810961Z"
    },
    "papermill": {
     "duration": 0.365886,
     "end_time": "2023-09-16T16:27:02.814209",
     "exception": false,
     "start_time": "2023-09-16T16:27:02.448323",
     "status": "completed"
    },
    "tags": []
   },
   "outputs": [
    {
     "data": {
      "text/plain": [
       "<Axes: xlabel='price', ylabel='Count'>"
      ]
     },
     "execution_count": 11,
     "metadata": {},
     "output_type": "execute_result"
    },
    {
     "data": {
      "image/png": "[encoded data removed]",
      "text/plain": [
       "<Figure size 1000x600 with 1 Axes>"
      ]
     },
     "metadata": {},
     "output_type": "display_data"
    }
   ],
   "source": [
    "plt.figure(figsize=(10,6))\n",
    "sns.histplot(x=train['price'])"
   ]
  },
  {
   "cell_type": "code",
   "execution_count": 12,
   "id": "3ec6428c",
   "metadata": {
    "execution": {
     "iopub.execute_input": "2023-09-16T16:27:02.831346Z",
     "iopub.status.busy": "2023-09-16T16:27:02.830969Z",
     "iopub.status.idle": "2023-09-16T16:27:03.612113Z",
     "shell.execute_reply": "2023-09-16T16:27:03.611008Z"
    },
    "papermill": {
     "duration": 0.792499,
     "end_time": "2023-09-16T16:27:03.614711",
     "exception": false,
     "start_time": "2023-09-16T16:27:02.822212",
     "status": "completed"
    },
    "tags": []
   },
   "outputs": [
    {
     "data": {
      "text/plain": [
       "<seaborn.axisgrid.JointGrid at 0x233851efcd0>"
      ]
     },
     "execution_count": 12,
     "metadata": {},
     "output_type": "execute_result"
    },
    {
     "data": {
      "image/png": "[encoded data removed]",
      "text/plain": [
       "<Figure size 600x600 with 3 Axes>"
      ]
     },
     "metadata": {},
     "output_type": "display_data"
    }
   ],
   "source": [
    "sns.jointplot(x=train['price'],y=train['area'])"
   ]
  },
  {
   "cell_type": "code",
   "execution_count": 13,
   "id": "76cb4cab",
   "metadata": {
    "execution": {
     "iopub.execute_input": "2023-09-16T16:27:03.634526Z",
     "iopub.status.busy": "2023-09-16T16:27:03.634148Z",
     "iopub.status.idle": "2023-09-16T16:27:03.974231Z",
     "shell.execute_reply": "2023-09-16T16:27:03.973119Z"
    },
    "papermill": {
     "duration": 0.352499,
     "end_time": "2023-09-16T16:27:03.976284",
     "exception": false,
     "start_time": "2023-09-16T16:27:03.623785",
     "status": "completed"
    },
    "tags": []
   },
   "outputs": [
    {
     "data": {
      "text/plain": [
       "<Axes: xlabel='bedrooms', ylabel='count'>"
      ]
     },
     "execution_count": 13,
     "metadata": {},
     "output_type": "execute_result"
    },
    {
     "data": {
      "image/png": "[encoded data removed]",
      "text/plain": [
       "<Figure size 640x480 with 1 Axes>"
      ]
     },
     "metadata": {},
     "output_type": "display_data"
    }
   ],
   "source": [
    "sns.countplot(x=train['bedrooms'],hue=train['stories'])"
   ]
  },
  {
   "cell_type": "code",
   "execution_count": 14,
   "id": "0ede8885",
   "metadata": {
    "execution": {
     "iopub.execute_input": "2023-09-16T16:27:03.996880Z",
     "iopub.status.busy": "2023-09-16T16:27:03.996193Z",
     "iopub.status.idle": "2023-09-16T16:27:04.207991Z",
     "shell.execute_reply": "2023-09-16T16:27:04.206972Z"
    },
    "papermill": {
     "duration": 0.224532,
     "end_time": "2023-09-16T16:27:04.209989",
     "exception": false,
     "start_time": "2023-09-16T16:27:03.985457",
     "status": "completed"
    },
    "tags": []
   },
   "outputs": [
    {
     "data": {
      "text/plain": [
       "<Axes: xlabel='parking', ylabel='count'>"
      ]
     },
     "execution_count": 14,
     "metadata": {},
     "output_type": "execute_result"
    },
    {
     "data": {
      "image/png": "[encoded data removed]",
      "text/plain": [
       "<Figure size 640x480 with 1 Axes>"
      ]
     },
     "metadata": {},
     "output_type": "display_data"
    }
   ],
   "source": [
    "sns.countplot(x=train['parking'])"
   ]
  },
  {
   "cell_type": "code",
   "execution_count": 15,
   "id": "7d41ff0f",
   "metadata": {
    "execution": {
     "iopub.execute_input": "2023-09-16T16:27:04.230958Z",
     "iopub.status.busy": "2023-09-16T16:27:04.230560Z",
     "iopub.status.idle": "2023-09-16T16:27:04.439129Z",
     "shell.execute_reply": "2023-09-16T16:27:04.438103Z"
    },
    "papermill": {
     "duration": 0.221825,
     "end_time": "2023-09-16T16:27:04.441357",
     "exception": false,
     "start_time": "2023-09-16T16:27:04.219532",
     "status": "completed"
    },
    "tags": []
   },
   "outputs": [
    {
     "data": {
      "text/plain": [
       "<Axes: xlabel='airconditioning', ylabel='count'>"
      ]
     },
     "execution_count": 15,
     "metadata": {},
     "output_type": "execute_result"
    },
    {
     "data": {
      "image/png": "[encoded data removed]",
      "text/plain": [
       "<Figure size 640x480 with 1 Axes>"
      ]
     },
     "metadata": {},
     "output_type": "display_data"
    }
   ],
   "source": [
    "sns.countplot(x=train['airconditioning'])"
   ]
  },
  {
   "cell_type": "code",
   "execution_count": 16,
   "id": "7e02d517",
   "metadata": {
    "execution": {
     "iopub.execute_input": "2023-09-16T16:27:04.463706Z",
     "iopub.status.busy": "2023-09-16T16:27:04.463320Z",
     "iopub.status.idle": "2023-09-16T16:27:04.663202Z",
     "shell.execute_reply": "2023-09-16T16:27:04.662100Z"
    },
    "papermill": {
     "duration": 0.213877,
     "end_time": "2023-09-16T16:27:04.665478",
     "exception": false,
     "start_time": "2023-09-16T16:27:04.451601",
     "status": "completed"
    },
    "tags": []
   },
   "outputs": [
    {
     "data": {
      "text/plain": [
       "<Axes: xlabel='furnishingstatus', ylabel='count'>"
      ]
     },
     "execution_count": 16,
     "metadata": {},
     "output_type": "execute_result"
    },
    {
     "data": {
      "image/png": "[encoded data removed]",
      "text/plain": [
       "<Figure size 640x480 with 1 Axes>"
      ]
     },
     "metadata": {},
     "output_type": "display_data"
    }
   ],
   "source": [
    "sns.countplot(x=train['furnishingstatus'])"
   ]
  },
  {
   "cell_type": "markdown",
   "id": "6edd293b",
   "metadata": {
    "papermill": {
     "duration": 0.00989,
     "end_time": "2023-09-16T16:27:04.685631",
     "exception": false,
     "start_time": "2023-09-16T16:27:04.675741",
     "status": "completed"
    },
    "tags": []
   },
   "source": [
    "## CONVERTING CATEGORICAL COLUMN INTO NUMERICAL COLUMN"
   ]
  },
  {
   "cell_type": "code",
   "execution_count": 17,
   "id": "934456dd",
   "metadata": {
    "execution": {
     "iopub.execute_input": "2023-09-16T16:27:04.707650Z",
     "iopub.status.busy": "2023-09-16T16:27:04.706999Z",
     "iopub.status.idle": "2023-09-16T16:27:04.839599Z",
     "shell.execute_reply": "2023-09-16T16:27:04.838530Z"
    },
    "papermill": {
     "duration": 0.146459,
     "end_time": "2023-09-16T16:27:04.842198",
     "exception": false,
     "start_time": "2023-09-16T16:27:04.695739",
     "status": "completed"
    },
    "tags": []
   },
   "outputs": [],
   "source": [
    "from sklearn.preprocessing import LabelEncoder"
   ]
  },
  {
   "cell_type": "code",
   "execution_count": 18,
   "id": "f67e2aaa",
   "metadata": {
    "execution": {
     "iopub.execute_input": "2023-09-16T16:27:04.864602Z",
     "iopub.status.busy": "2023-09-16T16:27:04.863874Z",
     "iopub.status.idle": "2023-09-16T16:27:04.873104Z",
     "shell.execute_reply": "2023-09-16T16:27:04.872090Z"
    },
    "papermill": {
     "duration": 0.022574,
     "end_time": "2023-09-16T16:27:04.875086",
     "exception": false,
     "start_time": "2023-09-16T16:27:04.852512",
     "status": "completed"
    },
    "tags": []
   },
   "outputs": [],
   "source": [
    "cols=['mainroad','guestroom','basement','hotwaterheating','airconditioning','prefarea','furnishingstatus']\n",
    "le=LabelEncoder()\n",
    "for col in cols:\n",
    "    train[col]=le.fit_transform(train[col])"
   ]
  },
  {
   "cell_type": "code",
   "execution_count": 19,
   "id": "a9193309",
   "metadata": {
    "execution": {
     "iopub.execute_input": "2023-09-16T16:27:04.896899Z",
     "iopub.status.busy": "2023-09-16T16:27:04.896528Z",
     "iopub.status.idle": "2023-09-16T16:27:04.910112Z",
     "shell.execute_reply": "2023-09-16T16:27:04.908962Z"
    },
    "papermill": {
     "duration": 0.026908,
     "end_time": "2023-09-16T16:27:04.912232",
     "exception": false,
     "start_time": "2023-09-16T16:27:04.885324",
     "status": "completed"
    },
    "tags": []
   },
   "outputs": [
    {
     "data": {
      "text/html": [
       "<div>\n",
       "<style scoped>\n",
       "    .dataframe tbody tr th:only-of-type {\n",
       "        vertical-align: middle;\n",
       "    }\n",
       "\n",
       "    .dataframe tbody tr th {\n",
       "        vertical-align: top;\n",
       "    }\n",
       "\n",
       "    .dataframe thead th {\n",
       "        text-align: right;\n",
       "    }\n",
       "</style>\n",
       "<table border=\"1\" class=\"dataframe\">\n",
       "  <thead>\n",
       "    <tr style=\"text-align: right;\">\n",
       "      <th></th>\n",
       "      <th>price</th>\n",
       "      <th>area</th>\n",
       "      <th>bedrooms</th>\n",
       "      <th>bathrooms</th>\n",
       "      <th>stories</th>\n",
       "      <th>mainroad</th>\n",
       "      <th>guestroom</th>\n",
       "      <th>basement</th>\n",
       "      <th>hotwaterheating</th>\n",
       "      <th>airconditioning</th>\n",
       "      <th>parking</th>\n",
       "      <th>prefarea</th>\n",
       "      <th>furnishingstatus</th>\n",
       "    </tr>\n",
       "  </thead>\n",
       "  <tbody>\n",
       "    <tr>\n",
       "      <th>0</th>\n",
       "      <td>13300000</td>\n",
       "      <td>7420</td>\n",
       "      <td>4</td>\n",
       "      <td>2</td>\n",
       "      <td>3</td>\n",
       "      <td>1</td>\n",
       "      <td>0</td>\n",
       "      <td>0</td>\n",
       "      <td>0</td>\n",
       "      <td>1</td>\n",
       "      <td>2</td>\n",
       "      <td>1</td>\n",
       "      <td>0</td>\n",
       "    </tr>\n",
       "    <tr>\n",
       "      <th>1</th>\n",
       "      <td>12250000</td>\n",
       "      <td>8960</td>\n",
       "      <td>4</td>\n",
       "      <td>4</td>\n",
       "      <td>4</td>\n",
       "      <td>1</td>\n",
       "      <td>0</td>\n",
       "      <td>0</td>\n",
       "      <td>0</td>\n",
       "      <td>1</td>\n",
       "      <td>3</td>\n",
       "      <td>0</td>\n",
       "      <td>0</td>\n",
       "    </tr>\n",
       "    <tr>\n",
       "      <th>2</th>\n",
       "      <td>12250000</td>\n",
       "      <td>9960</td>\n",
       "      <td>3</td>\n",
       "      <td>2</td>\n",
       "      <td>2</td>\n",
       "      <td>1</td>\n",
       "      <td>0</td>\n",
       "      <td>1</td>\n",
       "      <td>0</td>\n",
       "      <td>0</td>\n",
       "      <td>2</td>\n",
       "      <td>1</td>\n",
       "      <td>1</td>\n",
       "    </tr>\n",
       "    <tr>\n",
       "      <th>3</th>\n",
       "      <td>12215000</td>\n",
       "      <td>7500</td>\n",
       "      <td>4</td>\n",
       "      <td>2</td>\n",
       "      <td>2</td>\n",
       "      <td>1</td>\n",
       "      <td>0</td>\n",
       "      <td>1</td>\n",
       "      <td>0</td>\n",
       "      <td>1</td>\n",
       "      <td>3</td>\n",
       "      <td>1</td>\n",
       "      <td>0</td>\n",
       "    </tr>\n",
       "    <tr>\n",
       "      <th>4</th>\n",
       "      <td>11410000</td>\n",
       "      <td>7420</td>\n",
       "      <td>4</td>\n",
       "      <td>1</td>\n",
       "      <td>2</td>\n",
       "      <td>1</td>\n",
       "      <td>1</td>\n",
       "      <td>1</td>\n",
       "      <td>0</td>\n",
       "      <td>1</td>\n",
       "      <td>2</td>\n",
       "      <td>0</td>\n",
       "      <td>0</td>\n",
       "    </tr>\n",
       "  </tbody>\n",
       "</table>\n",
       "</div>"
      ],
      "text/plain": [
       "      price  area  bedrooms  bathrooms  stories  mainroad  guestroom  \\\n",
       "0  13300000  7420         4          2        3         1          0   \n",
       "1  12250000  8960         4          4        4         1          0   \n",
       "2  12250000  9960         3          2        2         1          0   \n",
       "3  12215000  7500         4          2        2         1          0   \n",
       "4  11410000  7420         4          1        2         1          1   \n",
       "\n",
       "   basement  hotwaterheating  airconditioning  parking  prefarea  \\\n",
       "0         0                0                1        2         1   \n",
       "1         0                0                1        3         0   \n",
       "2         1                0                0        2         1   \n",
       "3         1                0                1        3         1   \n",
       "4         1                0                1        2         0   \n",
       "\n",
       "   furnishingstatus  \n",
       "0                 0  \n",
       "1                 0  \n",
       "2                 1  \n",
       "3                 0  \n",
       "4                 0  "
      ]
     },
     "execution_count": 19,
     "metadata": {},
     "output_type": "execute_result"
    }
   ],
   "source": [
    "train.head()"
   ]
  },
  {
   "cell_type": "markdown",
   "id": "3ec02e15",
   "metadata": {
    "papermill": {
     "duration": 0.010045,
     "end_time": "2023-09-16T16:27:04.932657",
     "exception": false,
     "start_time": "2023-09-16T16:27:04.922612",
     "status": "completed"
    },
    "tags": []
   },
   "source": [
    "## TRAINING THE DATA"
   ]
  },
  {
   "cell_type": "code",
   "execution_count": 20,
   "id": "ad429376",
   "metadata": {
    "execution": {
     "iopub.execute_input": "2023-09-16T16:27:04.955458Z",
     "iopub.status.busy": "2023-09-16T16:27:04.955068Z",
     "iopub.status.idle": "2023-09-16T16:27:05.060338Z",
     "shell.execute_reply": "2023-09-16T16:27:05.059537Z"
    },
    "papermill": {
     "duration": 0.119275,
     "end_time": "2023-09-16T16:27:05.062574",
     "exception": false,
     "start_time": "2023-09-16T16:27:04.943299",
     "status": "completed"
    },
    "tags": []
   },
   "outputs": [],
   "source": [
    "from sklearn.model_selection import train_test_split"
   ]
  },
  {
   "cell_type": "code",
   "execution_count": 21,
   "id": "9257cd06",
   "metadata": {
    "execution": {
     "iopub.execute_input": "2023-09-16T16:27:05.085323Z",
     "iopub.status.busy": "2023-09-16T16:27:05.084524Z",
     "iopub.status.idle": "2023-09-16T16:27:05.091812Z",
     "shell.execute_reply": "2023-09-16T16:27:05.091107Z"
    },
    "papermill": {
     "duration": 0.020542,
     "end_time": "2023-09-16T16:27:05.093670",
     "exception": false,
     "start_time": "2023-09-16T16:27:05.073128",
     "status": "completed"
    },
    "tags": []
   },
   "outputs": [],
   "source": [
    "X=train.drop('price',axis=1)\n",
    "y=train['price']\n",
    "X_train, X_test, y_train, y_test = train_test_split(X, y, test_size=0.33, random_state=42)"
   ]
  },
  {
   "cell_type": "code",
   "execution_count": 22,
   "id": "ef9dcf4b",
   "metadata": {
    "execution": {
     "iopub.execute_input": "2023-09-16T16:27:05.116223Z",
     "iopub.status.busy": "2023-09-16T16:27:05.115658Z",
     "iopub.status.idle": "2023-09-16T16:27:05.212169Z",
     "shell.execute_reply": "2023-09-16T16:27:05.211024Z"
    },
    "papermill": {
     "duration": 0.110649,
     "end_time": "2023-09-16T16:27:05.214688",
     "exception": false,
     "start_time": "2023-09-16T16:27:05.104039",
     "status": "completed"
    },
    "tags": []
   },
   "outputs": [],
   "source": [
    "from sklearn.linear_model import LinearRegression"
   ]
  },
  {
   "cell_type": "code",
   "execution_count": 23,
   "id": "50064bb6",
   "metadata": {
    "execution": {
     "iopub.execute_input": "2023-09-16T16:27:05.237630Z",
     "iopub.status.busy": "2023-09-16T16:27:05.237215Z",
     "iopub.status.idle": "2023-09-16T16:27:05.261760Z",
     "shell.execute_reply": "2023-09-16T16:27:05.260957Z"
    },
    "papermill": {
     "duration": 0.038451,
     "end_time": "2023-09-16T16:27:05.263876",
     "exception": false,
     "start_time": "2023-09-16T16:27:05.225425",
     "status": "completed"
    },
    "tags": []
   },
   "outputs": [],
   "source": [
    "model=LinearRegression().fit(X_train,y_train)"
   ]
  },
  {
   "cell_type": "code",
   "execution_count": 24,
   "id": "e90e2caf",
   "metadata": {},
   "outputs": [
    {
     "data": {
      "text/html": [
       "<div>\n",
       "<style scoped>\n",
       "    .dataframe tbody tr th:only-of-type {\n",
       "        vertical-align: middle;\n",
       "    }\n",
       "\n",
       "    .dataframe tbody tr th {\n",
       "        vertical-align: top;\n",
       "    }\n",
       "\n",
       "    .dataframe thead th {\n",
       "        text-align: right;\n",
       "    }\n",
       "</style>\n",
       "<table border=\"1\" class=\"dataframe\">\n",
       "  <thead>\n",
       "    <tr style=\"text-align: right;\">\n",
       "      <th></th>\n",
       "      <th>area</th>\n",
       "      <th>bedrooms</th>\n",
       "      <th>bathrooms</th>\n",
       "      <th>stories</th>\n",
       "      <th>mainroad</th>\n",
       "      <th>guestroom</th>\n",
       "      <th>basement</th>\n",
       "      <th>hotwaterheating</th>\n",
       "      <th>airconditioning</th>\n",
       "      <th>parking</th>\n",
       "      <th>prefarea</th>\n",
       "      <th>furnishingstatus</th>\n",
       "    </tr>\n",
       "  </thead>\n",
       "  <tbody>\n",
       "    <tr>\n",
       "      <th>316</th>\n",
       "      <td>5900</td>\n",
       "      <td>4</td>\n",
       "      <td>2</td>\n",
       "      <td>2</td>\n",
       "      <td>0</td>\n",
       "      <td>0</td>\n",
       "      <td>1</td>\n",
       "      <td>0</td>\n",
       "      <td>0</td>\n",
       "      <td>1</td>\n",
       "      <td>0</td>\n",
       "      <td>2</td>\n",
       "    </tr>\n",
       "    <tr>\n",
       "      <th>77</th>\n",
       "      <td>6500</td>\n",
       "      <td>3</td>\n",
       "      <td>2</td>\n",
       "      <td>3</td>\n",
       "      <td>1</td>\n",
       "      <td>0</td>\n",
       "      <td>0</td>\n",
       "      <td>0</td>\n",
       "      <td>1</td>\n",
       "      <td>0</td>\n",
       "      <td>1</td>\n",
       "      <td>0</td>\n",
       "    </tr>\n",
       "    <tr>\n",
       "      <th>360</th>\n",
       "      <td>4040</td>\n",
       "      <td>2</td>\n",
       "      <td>1</td>\n",
       "      <td>1</td>\n",
       "      <td>1</td>\n",
       "      <td>0</td>\n",
       "      <td>0</td>\n",
       "      <td>0</td>\n",
       "      <td>0</td>\n",
       "      <td>0</td>\n",
       "      <td>0</td>\n",
       "      <td>1</td>\n",
       "    </tr>\n",
       "    <tr>\n",
       "      <th>90</th>\n",
       "      <td>5000</td>\n",
       "      <td>3</td>\n",
       "      <td>1</td>\n",
       "      <td>2</td>\n",
       "      <td>1</td>\n",
       "      <td>0</td>\n",
       "      <td>0</td>\n",
       "      <td>0</td>\n",
       "      <td>1</td>\n",
       "      <td>0</td>\n",
       "      <td>0</td>\n",
       "      <td>1</td>\n",
       "    </tr>\n",
       "    <tr>\n",
       "      <th>493</th>\n",
       "      <td>3960</td>\n",
       "      <td>3</td>\n",
       "      <td>1</td>\n",
       "      <td>1</td>\n",
       "      <td>1</td>\n",
       "      <td>0</td>\n",
       "      <td>0</td>\n",
       "      <td>0</td>\n",
       "      <td>0</td>\n",
       "      <td>0</td>\n",
       "      <td>0</td>\n",
       "      <td>0</td>\n",
       "    </tr>\n",
       "    <tr>\n",
       "      <th>...</th>\n",
       "      <td>...</td>\n",
       "      <td>...</td>\n",
       "      <td>...</td>\n",
       "      <td>...</td>\n",
       "      <td>...</td>\n",
       "      <td>...</td>\n",
       "      <td>...</td>\n",
       "      <td>...</td>\n",
       "      <td>...</td>\n",
       "      <td>...</td>\n",
       "      <td>...</td>\n",
       "      <td>...</td>\n",
       "    </tr>\n",
       "    <tr>\n",
       "      <th>17</th>\n",
       "      <td>8500</td>\n",
       "      <td>3</td>\n",
       "      <td>2</td>\n",
       "      <td>4</td>\n",
       "      <td>1</td>\n",
       "      <td>0</td>\n",
       "      <td>0</td>\n",
       "      <td>0</td>\n",
       "      <td>1</td>\n",
       "      <td>2</td>\n",
       "      <td>0</td>\n",
       "      <td>0</td>\n",
       "    </tr>\n",
       "    <tr>\n",
       "      <th>402</th>\n",
       "      <td>5880</td>\n",
       "      <td>2</td>\n",
       "      <td>1</td>\n",
       "      <td>1</td>\n",
       "      <td>1</td>\n",
       "      <td>0</td>\n",
       "      <td>0</td>\n",
       "      <td>0</td>\n",
       "      <td>0</td>\n",
       "      <td>0</td>\n",
       "      <td>0</td>\n",
       "      <td>2</td>\n",
       "    </tr>\n",
       "    <tr>\n",
       "      <th>66</th>\n",
       "      <td>13200</td>\n",
       "      <td>2</td>\n",
       "      <td>1</td>\n",
       "      <td>1</td>\n",
       "      <td>1</td>\n",
       "      <td>0</td>\n",
       "      <td>1</td>\n",
       "      <td>1</td>\n",
       "      <td>0</td>\n",
       "      <td>1</td>\n",
       "      <td>0</td>\n",
       "      <td>0</td>\n",
       "    </tr>\n",
       "    <tr>\n",
       "      <th>238</th>\n",
       "      <td>4510</td>\n",
       "      <td>4</td>\n",
       "      <td>2</td>\n",
       "      <td>2</td>\n",
       "      <td>1</td>\n",
       "      <td>0</td>\n",
       "      <td>1</td>\n",
       "      <td>0</td>\n",
       "      <td>0</td>\n",
       "      <td>0</td>\n",
       "      <td>0</td>\n",
       "      <td>1</td>\n",
       "    </tr>\n",
       "    <tr>\n",
       "      <th>272</th>\n",
       "      <td>4075</td>\n",
       "      <td>3</td>\n",
       "      <td>1</td>\n",
       "      <td>1</td>\n",
       "      <td>1</td>\n",
       "      <td>1</td>\n",
       "      <td>1</td>\n",
       "      <td>0</td>\n",
       "      <td>0</td>\n",
       "      <td>2</td>\n",
       "      <td>0</td>\n",
       "      <td>1</td>\n",
       "    </tr>\n",
       "  </tbody>\n",
       "</table>\n",
       "<p>180 rows × 12 columns</p>\n",
       "</div>"
      ],
      "text/plain": [
       "      area  bedrooms  bathrooms  stories  mainroad  guestroom  basement  \\\n",
       "316   5900         4          2        2         0          0         1   \n",
       "77    6500         3          2        3         1          0         0   \n",
       "360   4040         2          1        1         1          0         0   \n",
       "90    5000         3          1        2         1          0         0   \n",
       "493   3960         3          1        1         1          0         0   \n",
       "..     ...       ...        ...      ...       ...        ...       ...   \n",
       "17    8500         3          2        4         1          0         0   \n",
       "402   5880         2          1        1         1          0         0   \n",
       "66   13200         2          1        1         1          0         1   \n",
       "238   4510         4          2        2         1          0         1   \n",
       "272   4075         3          1        1         1          1         1   \n",
       "\n",
       "     hotwaterheating  airconditioning  parking  prefarea  furnishingstatus  \n",
       "316                0                0        1         0                 2  \n",
       "77                 0                1        0         1                 0  \n",
       "360                0                0        0         0                 1  \n",
       "90                 0                1        0         0                 1  \n",
       "493                0                0        0         0                 0  \n",
       "..               ...              ...      ...       ...               ...  \n",
       "17                 0                1        2         0                 0  \n",
       "402                0                0        0         0                 2  \n",
       "66                 1                0        1         0                 0  \n",
       "238                0                0        0         0                 1  \n",
       "272                0                0        2         0                 1  \n",
       "\n",
       "[180 rows x 12 columns]"
      ]
     },
     "execution_count": 24,
     "metadata": {},
     "output_type": "execute_result"
    }
   ],
   "source": [
    "X_test"
   ]
  },
  {
   "cell_type": "code",
   "execution_count": 25,
   "id": "4002ebe7",
   "metadata": {
    "execution": {
     "iopub.execute_input": "2023-09-16T16:27:05.286689Z",
     "iopub.status.busy": "2023-09-16T16:27:05.286048Z",
     "iopub.status.idle": "2023-09-16T16:27:05.292343Z",
     "shell.execute_reply": "2023-09-16T16:27:05.291590Z"
    },
    "papermill": {
     "duration": 0.019818,
     "end_time": "2023-09-16T16:27:05.294191",
     "exception": false,
     "start_time": "2023-09-16T16:27:05.274373",
     "status": "completed"
    },
    "tags": []
   },
   "outputs": [],
   "source": [
    "predictions=model.predict(X_test)"
   ]
  },
  {
   "cell_type": "code",
   "execution_count": 26,
   "id": "64823cb7",
   "metadata": {
    "execution": {
     "iopub.execute_input": "2023-09-16T16:27:05.316650Z",
     "iopub.status.busy": "2023-09-16T16:27:05.316002Z",
     "iopub.status.idle": "2023-09-16T16:27:05.577604Z",
     "shell.execute_reply": "2023-09-16T16:27:05.576392Z"
    },
    "papermill": {
     "duration": 0.27525,
     "end_time": "2023-09-16T16:27:05.579759",
     "exception": false,
     "start_time": "2023-09-16T16:27:05.304509",
     "status": "completed"
    },
    "tags": []
   },
   "outputs": [
    {
     "data": {
      "text/plain": [
       "<matplotlib.collections.PathCollection at 0x2338b394c10>"
      ]
     },
     "execution_count": 26,
     "metadata": {},
     "output_type": "execute_result"
    },
    {
     "data": {
      "image/png": "[encoded data removed]",
      "text/plain": [
       "<Figure size 640x480 with 1 Axes>"
      ]
     },
     "metadata": {},
     "output_type": "display_data"
    }
   ],
   "source": [
    "plt.scatter(y_test,predictions)"
   ]
  },
  {
   "cell_type": "code",
   "execution_count": 27,
   "id": "56a7deb1",
   "metadata": {
    "execution": {
     "iopub.execute_input": "2023-09-16T16:27:05.604889Z",
     "iopub.status.busy": "2023-09-16T16:27:05.604505Z",
     "iopub.status.idle": "2023-09-16T16:27:05.611144Z",
     "shell.execute_reply": "2023-09-16T16:27:05.610387Z"
    },
    "papermill": {
     "duration": 0.02159,
     "end_time": "2023-09-16T16:27:05.612878",
     "exception": false,
     "start_time": "2023-09-16T16:27:05.591288",
     "status": "completed"
    },
    "tags": []
   },
   "outputs": [
    {
     "data": {
      "text/plain": [
       "array([ 2.51340200e+02,  9.27166053e+04,  1.12647938e+06,  3.96248428e+05,\n",
       "        4.10635156e+05,  3.20496711e+05,  4.84622279e+05,  6.23047393e+05,\n",
       "        6.78375342e+05,  2.92410463e+05,  5.24417243e+05, -2.00615357e+05])"
      ]
     },
     "execution_count": 27,
     "metadata": {},
     "output_type": "execute_result"
    }
   ],
   "source": [
    "model.coef_"
   ]
  },
  {
   "cell_type": "code",
   "execution_count": 28,
   "id": "acfd1460",
   "metadata": {
    "execution": {
     "iopub.execute_input": "2023-09-16T16:27:05.691810Z",
     "iopub.status.busy": "2023-09-16T16:27:05.691236Z",
     "iopub.status.idle": "2023-09-16T16:27:05.695325Z",
     "shell.execute_reply": "2023-09-16T16:27:05.694446Z"
    },
    "papermill": {
     "duration": 0.018824,
     "end_time": "2023-09-16T16:27:05.697302",
     "exception": false,
     "start_time": "2023-09-16T16:27:05.678478",
     "status": "completed"
    },
    "tags": []
   },
   "outputs": [],
   "source": [
    "from sklearn.metrics import mean_absolute_error,mean_squared_error"
   ]
  },
  {
   "cell_type": "code",
   "execution_count": 29,
   "id": "2f086cb5",
   "metadata": {
    "execution": {
     "iopub.execute_input": "2023-09-16T16:27:05.721456Z",
     "iopub.status.busy": "2023-09-16T16:27:05.720873Z",
     "iopub.status.idle": "2023-09-16T16:27:05.726453Z",
     "shell.execute_reply": "2023-09-16T16:27:05.725391Z"
    },
    "papermill": {
     "duration": 0.019942,
     "end_time": "2023-09-16T16:27:05.728466",
     "exception": false,
     "start_time": "2023-09-16T16:27:05.708524",
     "status": "completed"
    },
    "tags": []
   },
   "outputs": [
    {
     "name": "stdout",
     "output_type": "stream",
     "text": [
      "MAE: 906953.7908301718\n"
     ]
    }
   ],
   "source": [
    "print('MAE:',mean_absolute_error(y_test,predictions))"
   ]
  },
  {
   "cell_type": "code",
   "execution_count": 30,
   "id": "9e65b19b",
   "metadata": {
    "execution": {
     "iopub.execute_input": "2023-09-16T16:27:05.753542Z",
     "iopub.status.busy": "2023-09-16T16:27:05.752814Z",
     "iopub.status.idle": "2023-09-16T16:27:05.758086Z",
     "shell.execute_reply": "2023-09-16T16:27:05.757121Z"
    },
    "papermill": {
     "duration": 0.020956,
     "end_time": "2023-09-16T16:27:05.760984",
     "exception": false,
     "start_time": "2023-09-16T16:27:05.740028",
     "status": "completed"
    },
    "tags": []
   },
   "outputs": [
    {
     "name": "stdout",
     "output_type": "stream",
     "text": [
      "MSE: 1475542475754.5508\n"
     ]
    }
   ],
   "source": [
    "print('MSE:',mean_squared_error(y_test,predictions))"
   ]
  },
  {
   "cell_type": "code",
   "execution_count": 31,
   "id": "e31d6070",
   "metadata": {
    "execution": {
     "iopub.execute_input": "2023-09-16T16:27:05.785464Z",
     "iopub.status.busy": "2023-09-16T16:27:05.784769Z",
     "iopub.status.idle": "2023-09-16T16:27:05.790703Z",
     "shell.execute_reply": "2023-09-16T16:27:05.789716Z"
    },
    "papermill": {
     "duration": 0.020705,
     "end_time": "2023-09-16T16:27:05.792964",
     "exception": false,
     "start_time": "2023-09-16T16:27:05.772259",
     "status": "completed"
    },
    "tags": []
   },
   "outputs": [
    {
     "name": "stdout",
     "output_type": "stream",
     "text": [
      "RMSE: 1214719.093352266\n"
     ]
    }
   ],
   "source": [
    "print('RMSE:',np.sqrt(mean_squared_error(y_test,predictions)))"
   ]
  },
  {
   "cell_type": "code",
   "execution_count": 32,
   "id": "b36e18bc",
   "metadata": {
    "execution": {
     "iopub.execute_input": "2023-09-16T16:27:05.817736Z",
     "iopub.status.busy": "2023-09-16T16:27:05.817073Z",
     "iopub.status.idle": "2023-09-16T16:27:05.824670Z",
     "shell.execute_reply": "2023-09-16T16:27:05.823695Z"
    },
    "papermill": {
     "duration": 0.02243,
     "end_time": "2023-09-16T16:27:05.826806",
     "exception": false,
     "start_time": "2023-09-16T16:27:05.804376",
     "status": "completed"
    },
    "tags": []
   },
   "outputs": [
    {
     "data": {
      "text/plain": [
       "0.6557070707485257"
      ]
     },
     "execution_count": 32,
     "metadata": {},
     "output_type": "execute_result"
    }
   ],
   "source": [
    "from sklearn.metrics import r2_score\n",
    "r2_score(y_test, predictions)"
   ]
  },
  {
   "cell_type": "code",
   "execution_count": 35,
   "id": "e437df9b",
   "metadata": {},
   "outputs": [],
   "source": [
    "### Saving the best model ###\n",
    "\n",
    "# Saving model to disk\n",
    "pickle.dump(model, open('../models/housse_model.pkl','wb'))"
   ]
  },
  {
   "cell_type": "code",
   "execution_count": null,
   "id": "39d37cec",
   "metadata": {},
   "outputs": [],
   "source": []
  }
 ],
 "metadata": {
  "kernelspec": {
   "display_name": "Python 3",
   "language": "python",
   "name": "python3"
  },
  "language_info": {
   "codemirror_mode": {
    "name": "ipython",
    "version": 3
   },
   "file_extension": ".py",
   "mimetype": "text/x-python",
   "name": "python",
   "nbconvert_exporter": "python",
   "pygments_lexer": "ipython3",
   "version": "3.10.11"
  },
  "papermill": {
   "default_parameters": {},
   "duration": 9.081337,
   "end_time": "2023-09-16T16:27:06.459181",
   "environment_variables": {},
   "exception": null,
   "input_path": "__notebook__.ipynb",
   "output_path": "__notebook__.ipynb",
   "parameters": {},
   "start_time": "2023-09-16T16:26:57.377844",
   "version": "2.4.0"
  }
 },
 "nbformat": 4,
 "nbformat_minor": 5
}
